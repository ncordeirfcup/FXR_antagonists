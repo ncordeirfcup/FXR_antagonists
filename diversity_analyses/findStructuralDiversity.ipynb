{
 "cells": [
  {
   "cell_type": "code",
   "execution_count": 1,
   "id": "06c64389",
   "metadata": {},
   "outputs": [],
   "source": [
    "import pandas as pd\n",
    "import matplotlib.cm as cm\n",
    "from matplotlib import pyplot as plt\n",
    "import seaborn as sns\n",
    "import numpy as np\n",
    "\n",
    "'''\n",
    "What we'll need for analysis, clustering, etc.\n",
    "'''\n",
    "from sklearn.decomposition import PCA\n",
    "from sklearn.preprocessing import StandardScaler\n",
    "from sklearn.metrics import silhouette_samples, silhouette_score\n",
    "from sklearn.cluster import KMeans\n",
    "from sklearn import datasets, decomposition\n",
    "from sklearn.manifold import TSNE\n",
    "\n",
    "'''\n",
    "Of course the powerful RDKIT for cheminformatics <3\n",
    "'''\n",
    "from rdkit import Chem, DataStructs\n",
    "from rdkit.Chem import AllChem, MACCSkeys, Descriptors, Descriptors3D, Draw, rdMolDescriptors, Draw, PandasTools\n",
    "from rdkit.DataManip.Metric.rdMetricMatrixCalc import GetTanimotoSimMat, GetTanimotoDistMat\n",
    "from rdkit.Chem.Draw import IPythonConsole\n",
    "\n",
    "'''\n",
    "Some utilities\n",
    "'''\n",
    "#import progressbar\n",
    "from math import pi\n",
    "\n",
    "%config Completer.use_jedi = False\n",
    "PandasTools.RenderImagesInAllDataFrames(images=True)"
   ]
  },
  {
   "cell_type": "code",
   "execution_count": 2,
   "id": "55f0b4f2",
   "metadata": {},
   "outputs": [
    {
     "name": "stdout",
     "output_type": "stream",
     "text": [
      "30\n"
     ]
    }
   ],
   "source": [
    "mols=Chem.SDMolSupplier('all_aligned.sdf')\n",
    "print (len(mols)) "
   ]
  },
  {
   "cell_type": "code",
   "execution_count": 3,
   "id": "c4f9e9a1",
   "metadata": {},
   "outputs": [],
   "source": [
    "table=pd.DataFrame()\n",
    "for i,mol in enumerate(mols):\n",
    "    Chem.SanitizeMol(mol)\n",
    "    table.loc[i,'smiles']=Chem.MolToSmiles(mol)\n",
    "    table.loc[i,'Mol']=mol\n",
    "    table.loc[i,'MolWt']=Descriptors.MolWt(mol)\n",
    "    table.loc[i,'LogP']=Descriptors.MolLogP(mol)\n",
    "    table.loc[i,'NumHAcceptors']=Descriptors.NumHAcceptors(mol)\n",
    "    table.loc[i,'NumHDonors']=Descriptors.NumHDonors(mol)\n",
    "    table.loc[i,'NumHeteroatoms']=Descriptors.NumHeteroatoms(mol)\n",
    "    table.loc[i,'NumRotatableBonds']=Descriptors.NumRotatableBonds(mol)\n",
    "    table.loc[i,'NumHeavyAtoms']=Descriptors.HeavyAtomCount (mol)\n",
    "    table.loc[i,'NumAliphaticCarbocycles']=Descriptors.NumAliphaticCarbocycles(mol)\n",
    "    table.loc[i,'NumAliphaticHeterocycles']=Descriptors.NumAliphaticHeterocycles(mol)\n",
    "    table.loc[i,'NumAliphaticRings']=Descriptors.NumAliphaticRings(mol)\n",
    "    table.loc[i,'NumAromaticCarbocycles']=Descriptors.NumAromaticCarbocycles(mol)\n",
    "    table.loc[i,'NumAromaticHeterocycles']=Descriptors.NumAromaticHeterocycles(mol)\n",
    "    table.loc[i,'NumAromaticRings']=Descriptors.NumAromaticRings(mol)\n",
    "    table.loc[i,'RingCount']=Descriptors.RingCount(mol)\n",
    "    table.loc[i,'FractionCSP3']=Descriptors.FractionCSP3(mol)\n",
    "    \n",
    "    table.loc[i,'TPSA']=Descriptors.TPSA(mol)\n",
    "    table.loc[i,'NPR1']=rdMolDescriptors.CalcNPR1(mol)\n",
    "    table.loc[i,'NPR2']=rdMolDescriptors.CalcNPR2(mol)\n",
    "    table.loc[i,'InertialShapeFactor']=Descriptors3D.InertialShapeFactor(mol)\n",
    "    table.loc[i,'RadiusOfGyration']=Descriptors3D.RadiusOfGyration(mol)"
   ]
  },
  {
   "cell_type": "code",
   "execution_count": 4,
   "id": "f8b49bc1",
   "metadata": {},
   "outputs": [
    {
     "data": {
      "text/html": [
       "<div>\n",
       "<style scoped>\n",
       "    .dataframe tbody tr th:only-of-type {\n",
       "        vertical-align: middle;\n",
       "    }\n",
       "\n",
       "    .dataframe tbody tr th {\n",
       "        vertical-align: top;\n",
       "    }\n",
       "\n",
       "    .dataframe thead th {\n",
       "        text-align: right;\n",
       "    }\n",
       "</style>\n",
       "<table border=\"1\" class=\"dataframe\">\n",
       "  <thead>\n",
       "    <tr style=\"text-align: right;\">\n",
       "      <th></th>\n",
       "      <th>smiles</th>\n",
       "      <th>Mol</th>\n",
       "      <th>MolWt</th>\n",
       "      <th>LogP</th>\n",
       "      <th>NumHAcceptors</th>\n",
       "      <th>NumHDonors</th>\n",
       "      <th>NumHeteroatoms</th>\n",
       "      <th>NumRotatableBonds</th>\n",
       "      <th>NumHeavyAtoms</th>\n",
       "      <th>NumAliphaticCarbocycles</th>\n",
       "      <th>...</th>\n",
       "      <th>NumAromaticCarbocycles</th>\n",
       "      <th>NumAromaticHeterocycles</th>\n",
       "      <th>NumAromaticRings</th>\n",
       "      <th>RingCount</th>\n",
       "      <th>FractionCSP3</th>\n",
       "      <th>TPSA</th>\n",
       "      <th>NPR1</th>\n",
       "      <th>NPR2</th>\n",
       "      <th>InertialShapeFactor</th>\n",
       "      <th>RadiusOfGyration</th>\n",
       "    </tr>\n",
       "  </thead>\n",
       "  <tbody>\n",
       "    <tr>\n",
       "      <th>0</th>\n",
       "      <td>COc1cccc(Cn2cc(C(=O)Nc3ccc(C)c(S(=O)(=O)N4CCOC...</td>\n",
       "      <td style=\"text-align: center;\"><div style=\"width: 200px; height: 200px\" data-content=\"rdkit/molecule\"><img src=\"data:image/png;base64,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\" alt=\"Mol\"/></div></td>\n",
       "      <td>560.676</td>\n",
       "      <td>4.49704</td>\n",
       "      <td>7.0</td>\n",
       "      <td>1.0</td>\n",
       "      <td>10.0</td>\n",
       "      <td>8.0</td>\n",
       "      <td>40.0</td>\n",
       "      <td>0.0</td>\n",
       "      <td>...</td>\n",
       "      <td>3.0</td>\n",
       "      <td>1.0</td>\n",
       "      <td>4.0</td>\n",
       "      <td>5.0</td>\n",
       "      <td>0.266667</td>\n",
       "      <td>102.76</td>\n",
       "      <td>0.285432</td>\n",
       "      <td>0.775200</td>\n",
       "      <td>0.000170</td>\n",
       "      <td>5.581296</td>\n",
       "    </tr>\n",
       "    <tr>\n",
       "      <th>1</th>\n",
       "      <td>Cc1ccc(-c2nn(Cc3ccc4ccccc4c3)cc2C(=O)Nc2ccc(C)...</td>\n",
       "      <td style=\"text-align: center;\"><div style=\"width: 200px; height: 200px\" data-content=\"rdkit/molecule\"><img src=\"data:image/png;base64,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\" alt=\"Mol\"/></div></td>\n",
       "      <td>580.710</td>\n",
       "      <td>5.64164</td>\n",
       "      <td>6.0</td>\n",
       "      <td>1.0</td>\n",
       "      <td>9.0</td>\n",
       "      <td>7.0</td>\n",
       "      <td>42.0</td>\n",
       "      <td>0.0</td>\n",
       "      <td>...</td>\n",
       "      <td>4.0</td>\n",
       "      <td>1.0</td>\n",
       "      <td>5.0</td>\n",
       "      <td>6.0</td>\n",
       "      <td>0.212121</td>\n",
       "      <td>93.53</td>\n",
       "      <td>0.276802</td>\n",
       "      <td>0.809090</td>\n",
       "      <td>0.000160</td>\n",
       "      <td>5.889956</td>\n",
       "    </tr>\n",
       "    <tr>\n",
       "      <th>2</th>\n",
       "      <td>Cc1ccc(-c2nn(-c3cccc(Cl)c3)cc2C(=O)Nc2ccc(C)c(...</td>\n",
       "      <td style=\"text-align: center;\"><div style=\"width: 200px; height: 200px\" data-content=\"rdkit/molecule\"><img src=\"data:image/png;base64,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\" alt=\"Mol\"/></div></td>\n",
       "      <td>551.068</td>\n",
       "      <td>5.08274</td>\n",
       "      <td>6.0</td>\n",
       "      <td>1.0</td>\n",
       "      <td>10.0</td>\n",
       "      <td>6.0</td>\n",
       "      <td>38.0</td>\n",
       "      <td>0.0</td>\n",
       "      <td>...</td>\n",
       "      <td>3.0</td>\n",
       "      <td>1.0</td>\n",
       "      <td>4.0</td>\n",
       "      <td>5.0</td>\n",
       "      <td>0.214286</td>\n",
       "      <td>93.53</td>\n",
       "      <td>0.157718</td>\n",
       "      <td>0.936364</td>\n",
       "      <td>0.000463</td>\n",
       "      <td>5.062917</td>\n",
       "    </tr>\n",
       "    <tr>\n",
       "      <th>3</th>\n",
       "      <td>Cc1ccc(-c2nn(-c3ccc(Cl)cc3Cl)cc2C(=O)Nc2ccc(C)...</td>\n",
       "      <td style=\"text-align: center;\"><div style=\"width: 200px; height: 200px\" data-content=\"rdkit/molecule\"><img src=\"data:image/png;base64,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\" alt=\"Mol\"/></div></td>\n",
       "      <td>585.513</td>\n",
       "      <td>5.73614</td>\n",
       "      <td>6.0</td>\n",
       "      <td>1.0</td>\n",
       "      <td>11.0</td>\n",
       "      <td>6.0</td>\n",
       "      <td>39.0</td>\n",
       "      <td>0.0</td>\n",
       "      <td>...</td>\n",
       "      <td>3.0</td>\n",
       "      <td>1.0</td>\n",
       "      <td>4.0</td>\n",
       "      <td>5.0</td>\n",
       "      <td>0.214286</td>\n",
       "      <td>93.53</td>\n",
       "      <td>0.153339</td>\n",
       "      <td>0.929458</td>\n",
       "      <td>0.000422</td>\n",
       "      <td>5.173126</td>\n",
       "    </tr>\n",
       "    <tr>\n",
       "      <th>4</th>\n",
       "      <td>Cc1ccc(-c2nn(-c3nc4ccccc4s3)cc2C(=O)Nc2ccc(C)c...</td>\n",
       "      <td style=\"text-align: center;\"><div style=\"width: 200px; height: 200px\" data-content=\"rdkit/molecule\"><img src=\"data:image/png;base64,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\" alt=\"Mol\"/></div></td>\n",
       "      <td>573.700</td>\n",
       "      <td>5.03904</td>\n",
       "      <td>8.0</td>\n",
       "      <td>1.0</td>\n",
       "      <td>11.0</td>\n",
       "      <td>6.0</td>\n",
       "      <td>40.0</td>\n",
       "      <td>0.0</td>\n",
       "      <td>...</td>\n",
       "      <td>3.0</td>\n",
       "      <td>2.0</td>\n",
       "      <td>5.0</td>\n",
       "      <td>6.0</td>\n",
       "      <td>0.206897</td>\n",
       "      <td>106.42</td>\n",
       "      <td>0.375347</td>\n",
       "      <td>0.663028</td>\n",
       "      <td>0.000120</td>\n",
       "      <td>5.229281</td>\n",
       "    </tr>\n",
       "  </tbody>\n",
       "</table>\n",
       "<p>5 rows × 22 columns</p>\n",
       "</div>"
      ],
      "text/plain": [
       "                                              smiles  \\\n",
       "0  COc1cccc(Cn2cc(C(=O)Nc3ccc(C)c(S(=O)(=O)N4CCOC...   \n",
       "1  Cc1ccc(-c2nn(Cc3ccc4ccccc4c3)cc2C(=O)Nc2ccc(C)...   \n",
       "2  Cc1ccc(-c2nn(-c3cccc(Cl)c3)cc2C(=O)Nc2ccc(C)c(...   \n",
       "3  Cc1ccc(-c2nn(-c3ccc(Cl)cc3Cl)cc2C(=O)Nc2ccc(C)...   \n",
       "4  Cc1ccc(-c2nn(-c3nc4ccccc4s3)cc2C(=O)Nc2ccc(C)c...   \n",
       "\n",
       "                                                 Mol    MolWt     LogP  \\\n",
       "0  <rdkit.Chem.rdchem.Mol object at 0x000001B6C8B...  560.676  4.49704   \n",
       "1  <rdkit.Chem.rdchem.Mol object at 0x000001B6C8B...  580.710  5.64164   \n",
       "2  <rdkit.Chem.rdchem.Mol object at 0x000001B6C8B...  551.068  5.08274   \n",
       "3  <rdkit.Chem.rdchem.Mol object at 0x000001B6C8B...  585.513  5.73614   \n",
       "4  <rdkit.Chem.rdchem.Mol object at 0x000001B6C8B...  573.700  5.03904   \n",
       "\n",
       "   NumHAcceptors  NumHDonors  NumHeteroatoms  NumRotatableBonds  \\\n",
       "0            7.0         1.0            10.0                8.0   \n",
       "1            6.0         1.0             9.0                7.0   \n",
       "2            6.0         1.0            10.0                6.0   \n",
       "3            6.0         1.0            11.0                6.0   \n",
       "4            8.0         1.0            11.0                6.0   \n",
       "\n",
       "   NumHeavyAtoms  NumAliphaticCarbocycles  ...  NumAromaticCarbocycles  \\\n",
       "0           40.0                      0.0  ...                     3.0   \n",
       "1           42.0                      0.0  ...                     4.0   \n",
       "2           38.0                      0.0  ...                     3.0   \n",
       "3           39.0                      0.0  ...                     3.0   \n",
       "4           40.0                      0.0  ...                     3.0   \n",
       "\n",
       "   NumAromaticHeterocycles  NumAromaticRings  RingCount  FractionCSP3    TPSA  \\\n",
       "0                      1.0               4.0        5.0      0.266667  102.76   \n",
       "1                      1.0               5.0        6.0      0.212121   93.53   \n",
       "2                      1.0               4.0        5.0      0.214286   93.53   \n",
       "3                      1.0               4.0        5.0      0.214286   93.53   \n",
       "4                      2.0               5.0        6.0      0.206897  106.42   \n",
       "\n",
       "       NPR1      NPR2  InertialShapeFactor  RadiusOfGyration  \n",
       "0  0.285432  0.775200             0.000170          5.581296  \n",
       "1  0.276802  0.809090             0.000160          5.889956  \n",
       "2  0.157718  0.936364             0.000463          5.062917  \n",
       "3  0.153339  0.929458             0.000422          5.173126  \n",
       "4  0.375347  0.663028             0.000120          5.229281  \n",
       "\n",
       "[5 rows x 22 columns]"
      ]
     },
     "execution_count": 4,
     "metadata": {},
     "output_type": "execute_result"
    }
   ],
   "source": [
    "table.head(5)"
   ]
  },
  {
   "cell_type": "code",
   "execution_count": 5,
   "id": "d4fcd24e",
   "metadata": {},
   "outputs": [
    {
     "data": {
      "image/png": "[encoded data removed]",
      "text/plain": [
       "<Figure size 432x288 with 1 Axes>"
      ]
     },
     "metadata": {
      "needs_background": "light"
     },
     "output_type": "display_data"
    }
   ],
   "source": [
    "plt.rcParams['axes.linewidth'] = 1.5\n",
    "plt.figure(figsize=(6,4))\n",
    "\n",
    "ax=sns.scatterplot(x='NPR1',y='NPR2',data=table,s=10,linewidth=0.5,alpha=1)\n",
    "x1, y1 = [0.5, 0], [0.5, 1]\n",
    "x2, y2 = [0.5, 1], [0.5, 1]\n",
    "x3, y3 = [0,1],[1,1]\n",
    "\n",
    "plt.plot(x1, y1,x2,y2,x3,y3,c='gray',ls='--',lw=2)\n",
    "\n",
    "plt.xlabel ('NPR1',fontsize=20,fontweight='bold')\n",
    "\n",
    "plt.ylabel ('NPR2',fontsize=20,fontweight='bold')\n",
    "\n",
    "ax.spines['top'].set_visible(False)\n",
    "ax.spines['right'].set_visible(False)\n",
    "\n",
    "plt.text(0, 1.01,s='Rod',fontsize=16,horizontalalignment='center',verticalalignment='center',fontweight='bold')\n",
    "plt.text(1, 1.01,s='Sphere',fontsize=16,horizontalalignment='center',verticalalignment='center',fontweight='bold')\n",
    "plt.text(0.5, 0.49,s='Disc',fontsize=16,horizontalalignment='center',verticalalignment='center',fontweight='bold')\n",
    "\n",
    "plt.tick_params ('both',width=2,labelsize=14)\n",
    "plt.tight_layout()\n",
    "\n",
    "plt.show()"
   ]
  },
  {
   "cell_type": "code",
   "execution_count": 6,
   "id": "47070454",
   "metadata": {},
   "outputs": [
    {
     "data": {
      "text/html": [
       "<div>\n",
       "<style scoped>\n",
       "    .dataframe tbody tr th:only-of-type {\n",
       "        vertical-align: middle;\n",
       "    }\n",
       "\n",
       "    .dataframe tbody tr th {\n",
       "        vertical-align: top;\n",
       "    }\n",
       "\n",
       "    .dataframe thead th {\n",
       "        text-align: right;\n",
       "    }\n",
       "</style>\n",
       "<table border=\"1\" class=\"dataframe\">\n",
       "  <thead>\n",
       "    <tr style=\"text-align: right;\">\n",
       "      <th></th>\n",
       "      <th>PC1</th>\n",
       "      <th>PC2</th>\n",
       "      <th>PC3</th>\n",
       "      <th>PC4</th>\n",
       "      <th>PC5</th>\n",
       "      <th>PC6</th>\n",
       "      <th>PC7</th>\n",
       "    </tr>\n",
       "  </thead>\n",
       "  <tbody>\n",
       "    <tr>\n",
       "      <th>0</th>\n",
       "      <td>-1.522462</td>\n",
       "      <td>-0.212294</td>\n",
       "      <td>0.366418</td>\n",
       "      <td>-0.518883</td>\n",
       "      <td>-0.647666</td>\n",
       "      <td>-0.205013</td>\n",
       "      <td>0.011797</td>\n",
       "    </tr>\n",
       "    <tr>\n",
       "      <th>1</th>\n",
       "      <td>-2.860808</td>\n",
       "      <td>1.825296</td>\n",
       "      <td>0.543280</td>\n",
       "      <td>-0.855285</td>\n",
       "      <td>-1.249753</td>\n",
       "      <td>0.073189</td>\n",
       "      <td>-0.135113</td>\n",
       "    </tr>\n",
       "    <tr>\n",
       "      <th>2</th>\n",
       "      <td>-1.334664</td>\n",
       "      <td>1.153891</td>\n",
       "      <td>0.306883</td>\n",
       "      <td>0.056511</td>\n",
       "      <td>0.204380</td>\n",
       "      <td>-0.315865</td>\n",
       "      <td>0.042303</td>\n",
       "    </tr>\n",
       "    <tr>\n",
       "      <th>3</th>\n",
       "      <td>-2.308188</td>\n",
       "      <td>0.994268</td>\n",
       "      <td>-0.422961</td>\n",
       "      <td>0.214210</td>\n",
       "      <td>0.611901</td>\n",
       "      <td>-0.438122</td>\n",
       "      <td>0.047643</td>\n",
       "    </tr>\n",
       "    <tr>\n",
       "      <th>4</th>\n",
       "      <td>-2.850482</td>\n",
       "      <td>-0.013331</td>\n",
       "      <td>1.036437</td>\n",
       "      <td>-0.717510</td>\n",
       "      <td>0.590087</td>\n",
       "      <td>0.513160</td>\n",
       "      <td>-0.288411</td>\n",
       "    </tr>\n",
       "  </tbody>\n",
       "</table>\n",
       "</div>"
      ],
      "text/plain": [
       "        PC1       PC2       PC3       PC4       PC5       PC6       PC7\n",
       "0 -1.522462 -0.212294  0.366418 -0.518883 -0.647666 -0.205013  0.011797\n",
       "1 -2.860808  1.825296  0.543280 -0.855285 -1.249753  0.073189 -0.135113\n",
       "2 -1.334664  1.153891  0.306883  0.056511  0.204380 -0.315865  0.042303\n",
       "3 -2.308188  0.994268 -0.422961  0.214210  0.611901 -0.438122  0.047643\n",
       "4 -2.850482 -0.013331  1.036437 -0.717510  0.590087  0.513160 -0.288411"
      ]
     },
     "execution_count": 6,
     "metadata": {},
     "output_type": "execute_result"
    }
   ],
   "source": [
    "descriptors = table[['MolWt', 'LogP','NumHeteroatoms','RingCount','FractionCSP3', 'TPSA','RadiusOfGyration']].values #The non-redundant molecular descriptors chosen for PCA\n",
    "descriptors_std = StandardScaler().fit_transform(descriptors) #Important to avoid scaling problems between our different descriptors\n",
    "pca = PCA()\n",
    "descriptors_2d = pca.fit_transform(descriptors_std)\n",
    "descriptors_pca= pd.DataFrame(descriptors_2d) # Saving PCA values to a new table\n",
    "descriptors_pca.index = table.index\n",
    "descriptors_pca.columns = ['PC{}'.format(i+1) for i in descriptors_pca.columns]\n",
    "descriptors_pca.head(5) #Displays the PCA table"
   ]
  },
  {
   "cell_type": "code",
   "execution_count": 7,
   "id": "5dca7884",
   "metadata": {},
   "outputs": [
    {
     "name": "stdout",
     "output_type": "stream",
     "text": [
      "[0.53401717 0.20320831 0.12130967 0.06942024 0.05826752 0.01005921\n",
      " 0.00371789]\n",
      "0.9999999999999998\n"
     ]
    }
   ],
   "source": [
    "print(pca.explained_variance_ratio_) #Let's plot PC1 vs PC2 \n",
    "print(sum(pca.explained_variance_ratio_))"
   ]
  },
  {
   "cell_type": "code",
   "execution_count": 8,
   "id": "0f87585f",
   "metadata": {},
   "outputs": [],
   "source": [
    "# This normalization will be performed just for PC1 and PC2, but can be done for all the components.\n",
    "#The normalization is to plot PCA values in 0-1 sacle and include the vectors (features to the plot)\n",
    "\n",
    "scale1 = 1.0/(max(descriptors_pca['PC1']) - min(descriptors_pca['PC1'])) \n",
    "scale2 = 1.0/(max(descriptors_pca['PC2']) - min(descriptors_pca['PC2']))\n",
    "\n",
    "# And we add the new values to our PCA table\n",
    "descriptors_pca['PC1_normalized']=[i*scale1 for i in descriptors_pca['PC1']]\n",
    "descriptors_pca['PC2_normalized']=[i*scale2 for i in descriptors_pca['PC2']]"
   ]
  },
  {
   "cell_type": "code",
   "execution_count": 9,
   "id": "f1c94fd3",
   "metadata": {},
   "outputs": [
    {
     "data": {
      "text/html": [
       "<div>\n",
       "<style scoped>\n",
       "    .dataframe tbody tr th:only-of-type {\n",
       "        vertical-align: middle;\n",
       "    }\n",
       "\n",
       "    .dataframe tbody tr th {\n",
       "        vertical-align: top;\n",
       "    }\n",
       "\n",
       "    .dataframe thead th {\n",
       "        text-align: right;\n",
       "    }\n",
       "</style>\n",
       "<table border=\"1\" class=\"dataframe\">\n",
       "  <thead>\n",
       "    <tr style=\"text-align: right;\">\n",
       "      <th></th>\n",
       "      <th>PC1</th>\n",
       "      <th>PC2</th>\n",
       "      <th>PC3</th>\n",
       "      <th>PC4</th>\n",
       "      <th>PC5</th>\n",
       "      <th>PC6</th>\n",
       "      <th>PC7</th>\n",
       "      <th>PC1_normalized</th>\n",
       "      <th>PC2_normalized</th>\n",
       "    </tr>\n",
       "  </thead>\n",
       "  <tbody>\n",
       "    <tr>\n",
       "      <th>0</th>\n",
       "      <td>-1.522462</td>\n",
       "      <td>-0.212294</td>\n",
       "      <td>0.366418</td>\n",
       "      <td>-0.518883</td>\n",
       "      <td>-0.647666</td>\n",
       "      <td>-0.205013</td>\n",
       "      <td>0.011797</td>\n",
       "      <td>-0.225219</td>\n",
       "      <td>-0.039432</td>\n",
       "    </tr>\n",
       "    <tr>\n",
       "      <th>1</th>\n",
       "      <td>-2.860808</td>\n",
       "      <td>1.825296</td>\n",
       "      <td>0.543280</td>\n",
       "      <td>-0.855285</td>\n",
       "      <td>-1.249753</td>\n",
       "      <td>0.073189</td>\n",
       "      <td>-0.135113</td>\n",
       "      <td>-0.423201</td>\n",
       "      <td>0.339036</td>\n",
       "    </tr>\n",
       "    <tr>\n",
       "      <th>2</th>\n",
       "      <td>-1.334664</td>\n",
       "      <td>1.153891</td>\n",
       "      <td>0.306883</td>\n",
       "      <td>0.056511</td>\n",
       "      <td>0.204380</td>\n",
       "      <td>-0.315865</td>\n",
       "      <td>0.042303</td>\n",
       "      <td>-0.197438</td>\n",
       "      <td>0.214327</td>\n",
       "    </tr>\n",
       "    <tr>\n",
       "      <th>3</th>\n",
       "      <td>-2.308188</td>\n",
       "      <td>0.994268</td>\n",
       "      <td>-0.422961</td>\n",
       "      <td>0.214210</td>\n",
       "      <td>0.611901</td>\n",
       "      <td>-0.438122</td>\n",
       "      <td>0.047643</td>\n",
       "      <td>-0.341451</td>\n",
       "      <td>0.184678</td>\n",
       "    </tr>\n",
       "    <tr>\n",
       "      <th>4</th>\n",
       "      <td>-2.850482</td>\n",
       "      <td>-0.013331</td>\n",
       "      <td>1.036437</td>\n",
       "      <td>-0.717510</td>\n",
       "      <td>0.590087</td>\n",
       "      <td>0.513160</td>\n",
       "      <td>-0.288411</td>\n",
       "      <td>-0.421673</td>\n",
       "      <td>-0.002476</td>\n",
       "    </tr>\n",
       "  </tbody>\n",
       "</table>\n",
       "</div>"
      ],
      "text/plain": [
       "        PC1       PC2       PC3       PC4       PC5       PC6       PC7  \\\n",
       "0 -1.522462 -0.212294  0.366418 -0.518883 -0.647666 -0.205013  0.011797   \n",
       "1 -2.860808  1.825296  0.543280 -0.855285 -1.249753  0.073189 -0.135113   \n",
       "2 -1.334664  1.153891  0.306883  0.056511  0.204380 -0.315865  0.042303   \n",
       "3 -2.308188  0.994268 -0.422961  0.214210  0.611901 -0.438122  0.047643   \n",
       "4 -2.850482 -0.013331  1.036437 -0.717510  0.590087  0.513160 -0.288411   \n",
       "\n",
       "   PC1_normalized  PC2_normalized  \n",
       "0       -0.225219       -0.039432  \n",
       "1       -0.423201        0.339036  \n",
       "2       -0.197438        0.214327  \n",
       "3       -0.341451        0.184678  \n",
       "4       -0.421673       -0.002476  "
      ]
     },
     "execution_count": 9,
     "metadata": {},
     "output_type": "execute_result"
    }
   ],
   "source": [
    "descriptors_pca.head(5) # The PCA table now has the normalized PC1 and PC2"
   ]
  },
  {
   "cell_type": "code",
   "execution_count": 10,
   "id": "ed8a62be",
   "metadata": {},
   "outputs": [
    {
     "data": {
      "image/png": "[encoded data removed]",
      "text/plain": [
       "<Figure size 576x576 with 1 Axes>"
      ]
     },
     "metadata": {
      "needs_background": "light"
     },
     "output_type": "display_data"
    }
   ],
   "source": [
    "plt.rcParams['axes.linewidth'] = 1.5\n",
    "plt.figure(figsize=(8,8))\n",
    "\n",
    "ax=sns.scatterplot(x='PC1_normalized',y='PC2_normalized',data=descriptors_pca,s=20,palette=sns.color_palette(\"Set2\", 3),linewidth=0.2,alpha=1)\n",
    "\n",
    "plt.xlabel ('PC1',fontsize=20,fontweight='bold')\n",
    "ax.xaxis.set_label_coords(0.98, 0.45)\n",
    "plt.ylabel ('PC2',fontsize=20,fontweight='bold')\n",
    "ax.yaxis.set_label_coords(0.45, 0.98)\n",
    "\n",
    "ax.spines['left'].set_position(('data', 0))\n",
    "ax.spines['bottom'].set_position(('data', 0))\n",
    "ax.spines['top'].set_visible(False)\n",
    "ax.spines['right'].set_visible(False)\n",
    "\n",
    "\n",
    "lab=['MolWt', 'LogP','NumHeteroatoms','RingCount','FractionCSP3', 'NumNO', 'RadiusOfGyration'] #Feature labels\n",
    "\n",
    "l=np.transpose(pca.components_[0:2, :]) ## We will get the components eigenvectors (main features) for PC1 and PC2\n",
    "\n",
    "n = l.shape[0]\n",
    "for i in range(n):\n",
    "    plt.arrow(0, 0, l[i,0], l[i,1],color= 'k',alpha=0.5,linewidth=1.8,head_width=0.025)\n",
    "    plt.text(l[i,0]*1.25, l[i,1]*1.25, lab[i], color = 'k',va = 'center', ha = 'center',fontsize=16)\n",
    "\n",
    "circle = plt.Circle((0,0), 1, color='gray', fill=False,clip_on=True,linewidth=1.5,linestyle='--')\n",
    "\n",
    "plt.tick_params ('both',width=2,labelsize=18)\n",
    "\n",
    "ax.add_artist(circle)\n",
    "plt.xlim(-1.2,1.2)\n",
    "plt.ylim(-1.2,1.2)\n",
    "plt.tight_layout()\n",
    "plt.show()"
   ]
  },
  {
   "cell_type": "code",
   "execution_count": 11,
   "id": "5a2026b0",
   "metadata": {},
   "outputs": [],
   "source": [
    "smiles = list(table[\"smiles\"])\n",
    "smi=[Chem.MolFromSmiles(x) for x in smiles]\n",
    "fps =  [MACCSkeys.GenMACCSKeys(x) for x in smi] # In this example I'll use MACCSKeys\n",
    "tanimoto_sim_mat_lower_triangle=GetTanimotoSimMat(fps) #This compute a similartity matrix between all the molecules\n",
    "n_mol = len(fps)\n",
    "similarity_matrix = np.ones([n_mol,n_mol])\n",
    "i_lower= np.tril_indices(n=n_mol,m=n_mol,k=-1)\n",
    "i_upper= np.triu_indices(n=n_mol,m=n_mol,k=1)\n",
    "similarity_matrix[i_lower] = tanimoto_sim_mat_lower_triangle\n",
    "similarity_matrix[i_upper] = similarity_matrix.T[i_upper] \n",
    "distance_matrix = np.subtract(1,similarity_matrix) #This is the similarity matrix of all vs all molecules in our table"
   ]
  },
  {
   "cell_type": "code",
   "execution_count": 12,
   "id": "33df5478",
   "metadata": {},
   "outputs": [
    {
     "data": {
      "text/html": [
       "<div>\n",
       "<style scoped>\n",
       "    .dataframe tbody tr th:only-of-type {\n",
       "        vertical-align: middle;\n",
       "    }\n",
       "\n",
       "    .dataframe tbody tr th {\n",
       "        vertical-align: top;\n",
       "    }\n",
       "\n",
       "    .dataframe thead th {\n",
       "        text-align: right;\n",
       "    }\n",
       "</style>\n",
       "<table border=\"1\" class=\"dataframe\">\n",
       "  <thead>\n",
       "    <tr style=\"text-align: right;\">\n",
       "      <th></th>\n",
       "      <th>TC1</th>\n",
       "      <th>TC2</th>\n",
       "    </tr>\n",
       "  </thead>\n",
       "  <tbody>\n",
       "    <tr>\n",
       "      <th>0</th>\n",
       "      <td>160.103394</td>\n",
       "      <td>159.068375</td>\n",
       "    </tr>\n",
       "    <tr>\n",
       "      <th>1</th>\n",
       "      <td>9.949471</td>\n",
       "      <td>-51.927044</td>\n",
       "    </tr>\n",
       "    <tr>\n",
       "      <th>2</th>\n",
       "      <td>-267.092590</td>\n",
       "      <td>-42.390919</td>\n",
       "    </tr>\n",
       "    <tr>\n",
       "      <th>3</th>\n",
       "      <td>-273.908447</td>\n",
       "      <td>-22.048452</td>\n",
       "    </tr>\n",
       "    <tr>\n",
       "      <th>4</th>\n",
       "      <td>-22.663448</td>\n",
       "      <td>-3.518037</td>\n",
       "    </tr>\n",
       "  </tbody>\n",
       "</table>\n",
       "</div>"
      ],
      "text/plain": [
       "          TC1         TC2\n",
       "0  160.103394  159.068375\n",
       "1    9.949471  -51.927044\n",
       "2 -267.092590  -42.390919\n",
       "3 -273.908447  -22.048452\n",
       "4  -22.663448   -3.518037"
      ]
     },
     "execution_count": 12,
     "metadata": {},
     "output_type": "execute_result"
    }
   ],
   "source": [
    "TSNE_sim = TSNE(n_components=2,init='pca',random_state=90, angle = 0.3, perplexity=5).fit_transform(distance_matrix) #Remember to always tune the parameters acording your dataset!!\n",
    "tsne_result = pd.DataFrame(data = TSNE_sim , columns=[\"TC1\",\"TC2\"]) # New table containing the tSNE results\n",
    "tsne_result.head(5) #A new table containing the tSNE results"
   ]
  },
  {
   "cell_type": "code",
   "execution_count": 13,
   "id": "af70123e",
   "metadata": {},
   "outputs": [
    {
     "data": {
      "image/png": "[encoded data removed]",
      "text/plain": [
       "<Figure size 432x432 with 1 Axes>"
      ]
     },
     "metadata": {
      "needs_background": "light"
     },
     "output_type": "display_data"
    }
   ],
   "source": [
    "plt.rcParams['axes.linewidth'] = 1.5\n",
    "fig, ax = plt.subplots(figsize=(6,6))\n",
    "\n",
    "ax=sns.scatterplot(x='TC1',y='TC2',data=tsne_result,s=15,linewidth=0.2,alpha=1)\n",
    "        \n",
    "\n",
    "plt.xlabel ('tSNE 1',fontsize=24,fontweight='bold')\n",
    "\n",
    "plt.ylabel ('tSNE 2',fontsize=24,fontweight='bold')\n",
    "\n",
    "plt.tick_params ('both',width=2,labelsize=18)\n",
    "\n",
    "ax.spines['top'].set_visible(False)\n",
    "ax.spines['right'].set_visible(False)\n",
    "handles, labels = ax.get_legend_handles_labels()\n",
    "\n",
    "#ax.legend(handles=handles[1:], labels=labels[1:])\n",
    "\n",
    "#plt.legend(loc='lower right',frameon=False,prop={'size': 22},ncol=1)\n",
    "\n",
    "plt.tight_layout()\n",
    "plt.show()"
   ]
  },
  {
   "cell_type": "code",
   "execution_count": 14,
   "id": "742f2781",
   "metadata": {},
   "outputs": [
    {
     "name": "stderr",
     "output_type": "stream",
     "text": [
      "C:\\Users\\amitc\\anaconda3\\lib\\site-packages\\sklearn\\cluster\\_kmeans.py:870: FutureWarning: The default value of `n_init` will change from 10 to 'auto' in 1.4. Set the value of `n_init` explicitly to suppress the warning\n",
      "  warnings.warn(\n",
      "C:\\Users\\amitc\\anaconda3\\lib\\site-packages\\sklearn\\cluster\\_kmeans.py:1382: UserWarning: KMeans is known to have a memory leak on Windows with MKL, when there are less chunks than available threads. You can avoid it by setting the environment variable OMP_NUM_THREADS=1.\n",
      "  warnings.warn(\n"
     ]
    },
    {
     "name": "stdout",
     "output_type": "stream",
     "text": [
      "For n_clusters = 2 The average silhouette_score is : 0.780207\n",
      "For n_clusters = 3 The average silhouette_score is : 0.7589643\n"
     ]
    },
    {
     "name": "stderr",
     "output_type": "stream",
     "text": [
      "C:\\Users\\amitc\\anaconda3\\lib\\site-packages\\sklearn\\cluster\\_kmeans.py:870: FutureWarning: The default value of `n_init` will change from 10 to 'auto' in 1.4. Set the value of `n_init` explicitly to suppress the warning\n",
      "  warnings.warn(\n",
      "C:\\Users\\amitc\\anaconda3\\lib\\site-packages\\sklearn\\cluster\\_kmeans.py:1382: UserWarning: KMeans is known to have a memory leak on Windows with MKL, when there are less chunks than available threads. You can avoid it by setting the environment variable OMP_NUM_THREADS=1.\n",
      "  warnings.warn(\n",
      "C:\\Users\\amitc\\anaconda3\\lib\\site-packages\\sklearn\\cluster\\_kmeans.py:870: FutureWarning: The default value of `n_init` will change from 10 to 'auto' in 1.4. Set the value of `n_init` explicitly to suppress the warning\n",
      "  warnings.warn(\n",
      "C:\\Users\\amitc\\anaconda3\\lib\\site-packages\\sklearn\\cluster\\_kmeans.py:1382: UserWarning: KMeans is known to have a memory leak on Windows with MKL, when there are less chunks than available threads. You can avoid it by setting the environment variable OMP_NUM_THREADS=1.\n",
      "  warnings.warn(\n"
     ]
    },
    {
     "name": "stdout",
     "output_type": "stream",
     "text": [
      "For n_clusters = 4 The average silhouette_score is : 0.4688443\n",
      "For n_clusters = 5 The average silhouette_score is : 0.24014854\n"
     ]
    },
    {
     "name": "stderr",
     "output_type": "stream",
     "text": [
      "C:\\Users\\amitc\\anaconda3\\lib\\site-packages\\sklearn\\cluster\\_kmeans.py:870: FutureWarning: The default value of `n_init` will change from 10 to 'auto' in 1.4. Set the value of `n_init` explicitly to suppress the warning\n",
      "  warnings.warn(\n",
      "C:\\Users\\amitc\\anaconda3\\lib\\site-packages\\sklearn\\cluster\\_kmeans.py:1382: UserWarning: KMeans is known to have a memory leak on Windows with MKL, when there are less chunks than available threads. You can avoid it by setting the environment variable OMP_NUM_THREADS=1.\n",
      "  warnings.warn(\n",
      "C:\\Users\\amitc\\anaconda3\\lib\\site-packages\\sklearn\\cluster\\_kmeans.py:870: FutureWarning: The default value of `n_init` will change from 10 to 'auto' in 1.4. Set the value of `n_init` explicitly to suppress the warning\n",
      "  warnings.warn(\n",
      "C:\\Users\\amitc\\anaconda3\\lib\\site-packages\\sklearn\\cluster\\_kmeans.py:1382: UserWarning: KMeans is known to have a memory leak on Windows with MKL, when there are less chunks than available threads. You can avoid it by setting the environment variable OMP_NUM_THREADS=1.\n",
      "  warnings.warn(\n"
     ]
    },
    {
     "name": "stdout",
     "output_type": "stream",
     "text": [
      "For n_clusters = 6 The average silhouette_score is : 0.1967539\n",
      "For n_clusters = 7"
     ]
    },
    {
     "name": "stderr",
     "output_type": "stream",
     "text": [
      "C:\\Users\\amitc\\anaconda3\\lib\\site-packages\\sklearn\\cluster\\_kmeans.py:870: FutureWarning: The default value of `n_init` will change from 10 to 'auto' in 1.4. Set the value of `n_init` explicitly to suppress the warning\n",
      "  warnings.warn(\n",
      "C:\\Users\\amitc\\anaconda3\\lib\\site-packages\\sklearn\\cluster\\_kmeans.py:1382: UserWarning: KMeans is known to have a memory leak on Windows with MKL, when there are less chunks than available threads. You can avoid it by setting the environment variable OMP_NUM_THREADS=1.\n",
      "  warnings.warn(\n"
     ]
    },
    {
     "name": "stdout",
     "output_type": "stream",
     "text": [
      " The average silhouette_score is : 0.12154567\n",
      "For n_clusters = 8 The average silhouette_score is : 0.044304933\n"
     ]
    },
    {
     "name": "stderr",
     "output_type": "stream",
     "text": [
      "C:\\Users\\amitc\\anaconda3\\lib\\site-packages\\sklearn\\cluster\\_kmeans.py:870: FutureWarning: The default value of `n_init` will change from 10 to 'auto' in 1.4. Set the value of `n_init` explicitly to suppress the warning\n",
      "  warnings.warn(\n",
      "C:\\Users\\amitc\\anaconda3\\lib\\site-packages\\sklearn\\cluster\\_kmeans.py:1382: UserWarning: KMeans is known to have a memory leak on Windows with MKL, when there are less chunks than available threads. You can avoid it by setting the environment variable OMP_NUM_THREADS=1.\n",
      "  warnings.warn(\n",
      "C:\\Users\\amitc\\anaconda3\\lib\\site-packages\\sklearn\\cluster\\_kmeans.py:870: FutureWarning: The default value of `n_init` will change from 10 to 'auto' in 1.4. Set the value of `n_init` explicitly to suppress the warning\n",
      "  warnings.warn(\n",
      "C:\\Users\\amitc\\anaconda3\\lib\\site-packages\\sklearn\\cluster\\_kmeans.py:1382: UserWarning: KMeans is known to have a memory leak on Windows with MKL, when there are less chunks than available threads. You can avoid it by setting the environment variable OMP_NUM_THREADS=1.\n",
      "  warnings.warn(\n"
     ]
    },
    {
     "name": "stdout",
     "output_type": "stream",
     "text": [
      "For n_clusters = 9 The average silhouette_score is : 0.062069733\n",
      "For n_clusters = 10 The average silhouette_score is : 0.03350341\n"
     ]
    },
    {
     "name": "stderr",
     "output_type": "stream",
     "text": [
      "C:\\Users\\amitc\\anaconda3\\lib\\site-packages\\sklearn\\cluster\\_kmeans.py:870: FutureWarning: The default value of `n_init` will change from 10 to 'auto' in 1.4. Set the value of `n_init` explicitly to suppress the warning\n",
      "  warnings.warn(\n",
      "C:\\Users\\amitc\\anaconda3\\lib\\site-packages\\sklearn\\cluster\\_kmeans.py:1382: UserWarning: KMeans is known to have a memory leak on Windows with MKL, when there are less chunks than available threads. You can avoid it by setting the environment variable OMP_NUM_THREADS=1.\n",
      "  warnings.warn(\n"
     ]
    }
   ],
   "source": [
    "range_n_clusters = [2, 3, 4, 5, 6, 7, 8, 9, 10] # To explore the \"best\" number of cluster to clasify our molecules\n",
    "for n_clusters in range_n_clusters:\n",
    "    kmeans = KMeans(n_clusters=n_clusters, random_state=10)\n",
    "    cluster_labels = kmeans.fit_predict(tsne_result[['TC1','TC2']])\n",
    "    silhouette_avg = silhouette_score(tsne_result[['TC1','TC1']], cluster_labels)\n",
    "    print(\"For n_clusters =\", n_clusters,\n",
    "          \"The average silhouette_score is :\", silhouette_avg) #This will print the silhouette score, as higher as our data is better distributed inside the clusters"
   ]
  },
  {
   "cell_type": "code",
   "execution_count": 15,
   "id": "378bb25f",
   "metadata": {},
   "outputs": [
    {
     "name": "stderr",
     "output_type": "stream",
     "text": [
      "C:\\Users\\amitc\\anaconda3\\lib\\site-packages\\sklearn\\cluster\\_kmeans.py:870: FutureWarning: The default value of `n_init` will change from 10 to 'auto' in 1.4. Set the value of `n_init` explicitly to suppress the warning\n",
      "  warnings.warn(\n",
      "C:\\Users\\amitc\\anaconda3\\lib\\site-packages\\sklearn\\cluster\\_kmeans.py:1382: UserWarning: KMeans is known to have a memory leak on Windows with MKL, when there are less chunks than available threads. You can avoid it by setting the environment variable OMP_NUM_THREADS=1.\n",
      "  warnings.warn(\n"
     ]
    },
    {
     "data": {
      "text/html": [
       "<div>\n",
       "<style scoped>\n",
       "    .dataframe tbody tr th:only-of-type {\n",
       "        vertical-align: middle;\n",
       "    }\n",
       "\n",
       "    .dataframe tbody tr th {\n",
       "        vertical-align: top;\n",
       "    }\n",
       "\n",
       "    .dataframe thead th {\n",
       "        text-align: right;\n",
       "    }\n",
       "</style>\n",
       "<table border=\"1\" class=\"dataframe\">\n",
       "  <thead>\n",
       "    <tr style=\"text-align: right;\">\n",
       "      <th></th>\n",
       "      <th>TC1</th>\n",
       "      <th>TC2</th>\n",
       "      <th>Cluster</th>\n",
       "    </tr>\n",
       "  </thead>\n",
       "  <tbody>\n",
       "    <tr>\n",
       "      <th>0</th>\n",
       "      <td>160.103394</td>\n",
       "      <td>159.068375</td>\n",
       "      <td>1</td>\n",
       "    </tr>\n",
       "    <tr>\n",
       "      <th>1</th>\n",
       "      <td>9.949471</td>\n",
       "      <td>-51.927044</td>\n",
       "      <td>4</td>\n",
       "    </tr>\n",
       "    <tr>\n",
       "      <th>2</th>\n",
       "      <td>-267.092590</td>\n",
       "      <td>-42.390919</td>\n",
       "      <td>2</td>\n",
       "    </tr>\n",
       "    <tr>\n",
       "      <th>3</th>\n",
       "      <td>-273.908447</td>\n",
       "      <td>-22.048452</td>\n",
       "      <td>2</td>\n",
       "    </tr>\n",
       "  </tbody>\n",
       "</table>\n",
       "</div>"
      ],
      "text/plain": [
       "          TC1         TC2  Cluster\n",
       "0  160.103394  159.068375        1\n",
       "1    9.949471  -51.927044        4\n",
       "2 -267.092590  -42.390919        2\n",
       "3 -273.908447  -22.048452        2"
      ]
     },
     "execution_count": 15,
     "metadata": {},
     "output_type": "execute_result"
    }
   ],
   "source": [
    "kmeans = KMeans(n_clusters=4, random_state=10) # We define the best number of clusters (6)\n",
    "clusters = kmeans.fit(tsne_result[['TC1','TC2']]) #TC1vs TC2\n",
    "\n",
    "tsne_result['Cluster'] = pd.Series(clusters.labels_+1, index=tsne_result.index)\n",
    "tsne_result.head(4) #The tSNE table now contains the numer of cluster for each element"
   ]
  },
  {
   "cell_type": "code",
   "execution_count": 16,
   "id": "3bf8eef4",
   "metadata": {},
   "outputs": [
    {
     "data": {
      "image/png": "[encoded data removed]",
      "text/plain": [
       "<Figure size 432x432 with 1 Axes>"
      ]
     },
     "metadata": {
      "needs_background": "light"
     },
     "output_type": "display_data"
    }
   ],
   "source": [
    "plt.rcParams['axes.linewidth'] = 1.5\n",
    "fig, ax = plt.subplots(figsize=(6,6))\n",
    "\n",
    "ax=sns.scatterplot(x='TC1',y='TC2',data=tsne_result, hue='Cluster',s=22,palette=sns.color_palette(\"Set2\", 4),linewidth=0.2,alpha=1)\n",
    "        \n",
    "\n",
    "plt.xlabel ('tSNE 1',fontsize=24,fontweight='bold')\n",
    "\n",
    "plt.ylabel ('tSNE 2',fontsize=24,fontweight='bold')\n",
    "\n",
    "plt.tick_params ('both',width=2,labelsize=18)\n",
    "\n",
    "ax.spines['top'].set_visible(False)\n",
    "ax.spines['right'].set_visible(False)\n",
    "\n",
    "handles, labels = ax.get_legend_handles_labels()\n",
    "\n",
    "ax.legend(handles=handles[1:], labels=labels[1:])\n",
    "\n",
    "plt.legend(loc='best',frameon=False,prop={'size': 16},ncol=2)\n",
    "\n",
    "plt.tight_layout()\n",
    "plt.show()"
   ]
  },
  {
   "cell_type": "code",
   "execution_count": 26,
   "id": "bc017958",
   "metadata": {},
   "outputs": [
    {
     "data": {
      "text/plain": [
       "array([[0.        , 0.16129032, 0.5       , ..., 0.7       , 0.6875    ,\n",
       "        0.63934426],\n",
       "       [0.16129032, 0.        , 0.47169811, ..., 0.74074074, 0.70588235,\n",
       "        0.56666667],\n",
       "       [0.5       , 0.47169811, 0.        , ..., 0.7972973 , 0.77464789,\n",
       "        0.27419355],\n",
       "       ...,\n",
       "       [0.7       , 0.74074074, 0.7972973 , ..., 0.        , 0.15      ,\n",
       "        0.71232877],\n",
       "       [0.6875    , 0.70588235, 0.77464789, ..., 0.15      , 0.        ,\n",
       "        0.75675676],\n",
       "       [0.63934426, 0.56666667, 0.27419355, ..., 0.71232877, 0.75675676,\n",
       "        0.        ]])"
      ]
     },
     "execution_count": 26,
     "metadata": {},
     "output_type": "execute_result"
    }
   ],
   "source": [
    "distance_matrix"
   ]
  },
  {
   "cell_type": "code",
   "execution_count": 11,
   "id": "afe2eb6d",
   "metadata": {},
   "outputs": [
    {
     "data": {
      "text/plain": [
       "(7, 2)"
      ]
     },
     "execution_count": 11,
     "metadata": {},
     "output_type": "execute_result"
    }
   ],
   "source": [
    "l.shape"
   ]
  },
  {
   "cell_type": "code",
   "execution_count": null,
   "id": "948a06c2",
   "metadata": {},
   "outputs": [],
   "source": []
  }
 ],
 "metadata": {
  "kernelspec": {
   "display_name": "Python 3 (ipykernel)",
   "language": "python",
   "name": "python3"
  },
  "language_info": {
   "codemirror_mode": {
    "name": "ipython",
    "version": 3
   },
   "file_extension": ".py",
   "mimetype": "text/x-python",
   "name": "python",
   "nbconvert_exporter": "python",
   "pygments_lexer": "ipython3",
   "version": "3.9.7"
  }
 },
 "nbformat": 4,
 "nbformat_minor": 5
}
